{
 "cells": [
  {
   "cell_type": "markdown",
   "metadata": {},
   "source": [
    "Binary logit"
   ]
  },
  {
   "cell_type": "code",
   "execution_count": 11,
   "metadata": {},
   "outputs": [],
   "source": [
    "import pandas as pd\n",
    "import numpy as np\n",
    "import polars as pl\n",
    "import os\n",
    "from sklearn.metrics import confusion_matrix as cm\n",
    "import matplotlib.pyplot as plt\n",
    "from sklearn.model_selection import train_test_split\n",
    "from sklearn.datasets import make_classification\n",
    "from sklearn.metrics import classification_report\n",
    "from sklearn.linear_model import LogisticRegression\n",
    "from sklearn.metrics import log_loss\n"
   ]
  },
  {
   "cell_type": "code",
   "execution_count": 13,
   "metadata": {},
   "outputs": [],
   "source": [
    "file_path = os.path.join(os.getcwd(), 'input for binary logit.xlsx')\n",
    "\n",
    "df = pd.read_excel(file_path, sheet_name=\"input\")\n",
    "\n",
    "\n",
    "train_on_B = pd.read_excel(file_path, sheet_name=\"foldB\")\n",
    "test_A = pd.read_excel(file_path, sheet_name=\"foldA\")\n",
    "\n",
    "train_on_A= pd.read_excel(file_path, sheet_name=\"foldA\")\n",
    "test_B = pd.read_excel(file_path, sheet_name=\"foldB\")"
   ]
  },
  {
   "cell_type": "code",
   "execution_count": 14,
   "metadata": {},
   "outputs": [
    {
     "data": {
      "text/plain": [
       "Index(['PurchaseDecision', 'id', 'panelist', 'AnyDisp', 'AnyFeat', 'AvgPrice',\n",
       "       'LastUnitsPPWeek', 'hhInc', '14101667', '14101758',\n",
       "       ...\n",
       "       '14813048', '14813055', '14814137', '14814525', '14814913', '14815837',\n",
       "       '14817429', '14817643', '14818070', '14818252'],\n",
       "      dtype='object', length=258)"
      ]
     },
     "execution_count": 14,
     "metadata": {},
     "output_type": "execute_result"
    }
   ],
   "source": [
    "train_on_B.columns.astype(str)\n",
    "test_A.columns.astype(str)\n",
    "train_on_A.columns.astype(str)\n",
    "test_B.columns.astype(str)"
   ]
  },
  {
   "cell_type": "markdown",
   "metadata": {},
   "source": [
    "Estimating the model"
   ]
  },
  {
   "cell_type": "code",
   "execution_count": 15,
   "metadata": {},
   "outputs": [
    {
     "data": {
      "text/plain": [
       "Index(['AnyDisp', 'AnyFeat', 'AvgPrice', 'LastUnitsPPWeek', 'hhInc',\n",
       "       '14101667', '14101758', '14102087', '14102160', '14102335',\n",
       "       ...\n",
       "       '14813048', '14813055', '14814137', '14814525', '14814913', '14815837',\n",
       "       '14817429', '14817643', '14818070', '14818252'],\n",
       "      dtype='object', length=255)"
      ]
     },
     "execution_count": 15,
     "metadata": {},
     "output_type": "execute_result"
    }
   ],
   "source": [
    "\n",
    "x = df.iloc[:, 3:]\n",
    "x.columns = x.columns.astype(str)\n",
    "\n",
    "y = df['PurchaseDecision']\n",
    "\n",
    "x.columns.astype(str)\n"
   ]
  },
  {
   "cell_type": "code",
   "execution_count": 24,
   "metadata": {},
   "outputs": [
    {
     "name": "stdout",
     "output_type": "stream",
     "text": [
      "Optimization terminated successfully.\n",
      "         Current function value: 0.325692\n",
      "         Iterations 10\n",
      "Log Likelihood: -12702.965961522157\n",
      "            Feature  Coefficient       P-value   T-statistic\n",
      "0             const    -1.601920  9.999984e-01 -1.954970e-06\n",
      "1           AnyDisp     0.096726  7.255736e-03  2.684873e+00\n",
      "2           AnyFeat     0.058105  9.074414e-02  1.691485e+00\n",
      "3          AvgPrice    -5.453631  7.756298e-03 -2.662498e+00\n",
      "4   LastUnitsPPWeek    -0.415028  6.255988e-24 -1.008779e+01\n",
      "5             hhInc     0.111011  9.999990e-01  1.232969e-06\n",
      "6          14101667    -1.100056  9.999992e-01 -9.408772e-07\n",
      "7          14101758    -1.305826  9.999992e-01 -9.452912e-07\n",
      "8          14102087    -1.840099  9.999983e-01 -2.165336e-06\n",
      "9          14102160    -0.919247  9.999993e-01 -8.325948e-07\n",
      "10         14102335     0.886896  9.999995e-01  6.089617e-07\n",
      "11         14103499    -2.286965  9.999987e-01 -1.570278e-06\n",
      "12         14103580     2.028131  9.999989e-01  1.392557e-06\n",
      "13         14103697    -1.953743  9.999987e-01 -1.671036e-06\n",
      "14         14103945     0.197056  9.999999e-01  1.353027e-07\n",
      "15         14104182     1.834893  9.999983e-01  2.159209e-06\n",
      "16         14105031    -3.382517  9.999968e-01 -3.980374e-06\n",
      "17         14105270     0.493827  9.999997e-01  3.574826e-07\n",
      "18         14105734    -1.364707  9.999993e-01 -9.370367e-07\n",
      "19         14106104     0.166335  9.999998e-01  1.957344e-07\n"
     ]
    }
   ],
   "source": [
    "import statsmodels.api as sm\n",
    "from sklearn.preprocessing import StandardScaler\n",
    "\n",
    "# Add a constant (intercept) to the model\n",
    "x = sm.add_constant(x)\n",
    "\n",
    "# Fit the logistic regression model using statsmodels\n",
    "logit_model = sm.Logit(y, x)\n",
    "result = logit_model.fit()\n",
    "\n",
    "# Get the coefficients, p-values, and other statistics\n",
    "coefficients = result.params\n",
    "p_values = result.pvalues\n",
    "log_likelihood = result.llf\n",
    "t_values = result.tvalues\n",
    "\n",
    "\n",
    "# Create a DataFrame to display the results\n",
    "results_df = pd.DataFrame({\n",
    "    'Feature': coefficients.index,\n",
    "    'Coefficient': coefficients.values,\n",
    "    'P-value': p_values.values,\n",
    "    'T-statistic': t_values.values\n",
    "})\n",
    "\n",
    "print(\"Log Likelihood:\", log_likelihood)\n",
    "\n",
    "print(results_df.head(20))"
   ]
  },
  {
   "cell_type": "code",
   "execution_count": 28,
   "metadata": {},
   "outputs": [
    {
     "name": "stdout",
     "output_type": "stream",
     "text": [
      "0.19048305713739688\n"
     ]
    }
   ],
   "source": [
    "#calculate McFadden R2\n",
    "\n",
    "log_likelihood_fitted = result.llf\n",
    "\n",
    "null_model = sm.Logit(y, np.ones((x.shape[0], 1))).fit(disp=0)\n",
    "log_likelihood_null = null_model.llf\n",
    "\n",
    "mcfadden_r2 = 1 - (log_likelihood_fitted / log_likelihood_null)\n",
    "\n",
    "print( mcfadden_r2)"
   ]
  },
  {
   "cell_type": "markdown",
   "metadata": {},
   "source": [
    "Forecasting\n"
   ]
  },
  {
   "cell_type": "code",
   "execution_count": 19,
   "metadata": {},
   "outputs": [
    {
     "name": "stdout",
     "output_type": "stream",
     "text": [
      "              precision    recall  f1-score   support\n",
      "\n",
      "           0     0.9332    0.9866    0.9592     16813\n",
      "           1     0.8740    0.5680    0.6886      2748\n",
      "\n",
      "    accuracy                         0.9278     19561\n",
      "   macro avg     0.9036    0.7773    0.8239     19561\n",
      "weighted avg     0.9249    0.9278    0.9212     19561\n",
      "\n"
     ]
    }
   ],
   "source": [
    "#We have model 1 and model 2\n",
    "#Model 1: trained on A and used to predict B (pred1 is prediction of model1)\n",
    "\n",
    "model_1 = LogisticRegression()\n",
    "\n",
    "#training data of model1 is train_x1, this is the expl vars from Fold A\n",
    "train_x1 = train_on_A.iloc[:, 3:]\n",
    "train_y1 = train_on_A['PurchaseDecision']\n",
    "\n",
    "# Convert column names to strings\n",
    "train_x1.columns = train_x1.columns.astype(str)\n",
    "\n",
    "#Model 1 predicts fold B, so our test set is fold B\n",
    "\n",
    "# Convert test_B column names to strings\n",
    "test_B.columns = test_B.columns.astype(str)\n",
    "\n",
    "# Ensure test_B only contains columns present in train_x1 and train_x2\n",
    "test_B_filtered = test_B[train_x1.columns]\n",
    "\n",
    "# Train model_1 on fold A\n",
    "model_1.fit(train_x1, train_y1)\n",
    "\n",
    "# Predict on test_B using model_1\n",
    "pred_1 = model_1.predict(test_B_filtered)\n",
    "\n",
    "# Print the classification report for predictions on test_B\n",
    "print(classification_report(test_B['PurchaseDecision'], pred_1, digits=4))\n"
   ]
  },
  {
   "cell_type": "code",
   "execution_count": 20,
   "metadata": {},
   "outputs": [
    {
     "data": {
      "image/png": "[encoded data removed]",
      "text/plain": [
       "<Figure size 800x800 with 1 Axes>"
      ]
     },
     "metadata": {},
     "output_type": "display_data"
    }
   ],
   "source": [
    "true_1 = test_B[\"PurchaseDecision\"] \n",
    "confusion_matr = cm(true_1, pred_1)\n",
    "\n",
    "fig, ax = plt.subplots(figsize=(8, 8))\n",
    "ax.imshow(confusion_matr)\n",
    "ax.grid(False)\n",
    "ax.xaxis.set(ticks=(0, 1), ticklabels=('Predicted 0s', 'Predicted 1s'))\n",
    "ax.yaxis.set(ticks=(0, 1), ticklabels=('Actual 0s', 'Actual 1s'))\n",
    "ax.set_ylim(1.5, -0.5)\n",
    "for i in range(2):\n",
    "    for j in range(2):\n",
    "        ax.text(j, i, confusion_matr[i, j], ha='center', va='center', color='red')\n",
    "plt.show()\n"
   ]
  },
  {
   "cell_type": "code",
   "execution_count": 21,
   "metadata": {},
   "outputs": [
    {
     "name": "stdout",
     "output_type": "stream",
     "text": [
      "              precision    recall  f1-score   support\n",
      "\n",
      "           0     0.9369    0.9872    0.9614     16786\n",
      "           1     0.8775    0.5798    0.6983      2656\n",
      "\n",
      "    accuracy                         0.9315     19442\n",
      "   macro avg     0.9072    0.7835    0.8298     19442\n",
      "weighted avg     0.9288    0.9315    0.9254     19442\n",
      "\n"
     ]
    }
   ],
   "source": [
    "#Model 2: trained on B and used to predict A (pred2 is prediction of model2)\n",
    "model_2 = LogisticRegression()\n",
    "\n",
    "#training data of model2 is train_x2, this is the expl vars from Fold B\n",
    "train_x2 = train_on_B.iloc[:, 3:]\n",
    "train_y2 = train_on_B['PurchaseDecision']\n",
    "\n",
    "train_x2.columns = train_x2.columns.astype(str)\n",
    "\n",
    "\n",
    "test_A.columns = test_A.columns.astype(str)\n",
    "\n",
    "test_A_filtered = test_A[train_x2.columns]\n",
    "\n",
    "model_2.fit(train_x2, train_y2)\n",
    "\n",
    "pred_2 = model_2.predict(test_A_filtered)\n",
    "\n",
    "print(classification_report(test_A['PurchaseDecision'], pred_2, digits=4))\n"
   ]
  },
  {
   "cell_type": "code",
   "execution_count": 22,
   "metadata": {},
   "outputs": [
    {
     "data": {
      "image/png": "[encoded data removed]",
      "text/plain": [
       "<Figure size 800x800 with 1 Axes>"
      ]
     },
     "metadata": {},
     "output_type": "display_data"
    }
   ],
   "source": [
    "true_2 = test_A[\"PurchaseDecision\"] \n",
    "confusion_matr = cm(true_2, pred_2)\n",
    "\n",
    "fig, ax = plt.subplots(figsize=(8, 8))\n",
    "ax.imshow(confusion_matr)\n",
    "ax.grid(False)\n",
    "ax.xaxis.set(ticks=(0, 1), ticklabels=('Predicted 0s', 'Predicted 1s'))\n",
    "ax.yaxis.set(ticks=(0, 1), ticklabels=('Actual 0s', 'Actual 1s'))\n",
    "ax.set_ylim(1.5, -0.5)\n",
    "for i in range(2):\n",
    "    for j in range(2):\n",
    "        ax.text(j, i, confusion_matr[i, j], ha='center', va='center', color='red')\n",
    "plt.show()\n"
   ]
  }
 ],
 "metadata": {
  "kernelspec": {
   "display_name": "Python 3",
   "language": "python",
   "name": "python3"
  },
  "language_info": {
   "codemirror_mode": {
    "name": "ipython",
    "version": 3
   },
   "file_extension": ".py",
   "mimetype": "text/x-python",
   "name": "python",
   "nbconvert_exporter": "python",
   "pygments_lexer": "ipython3",
   "version": "3.9.4"
  }
 },
 "nbformat": 4,
 "nbformat_minor": 2
}
